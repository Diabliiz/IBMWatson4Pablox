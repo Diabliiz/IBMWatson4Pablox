{
    "cells": [
        {
            "metadata": {
                "pixiedust": {
                    "displayParams": {
                        "handlerId": "graphDirected"
                    }
                }
            },
            "cell_type": "code",
            "source": "#import pixiedust\n\n#from pixiedust.packageManager import PackageManager\n#pkg=PackageManager()\n#pkg.installPackage(\"graphframes:graphframes:0.8.0-spark2.4-s_2.11\")\n#pkg.printAllPackages()\n\n#from pyspark import *\n#from pyspark.sql import *\n#sqlContext=SQLContext(sc)\n\nimport os\n#download graphframes package\n!wget -q http://dl.bintray.com/spark-packages/maven/graphframes/graphframes/0.3.0-spark2.0-s_2.11/graphframes-0.3.0-spark2.0-s_2.11.jar -P /home/jovyan/\n#tell to load graphframes and dependencies to the spark cluster for use\nos.environ[\"PYSPARK_SUBMIT_ARGS\"] = ' --packages graphframes:graphframes:0.3.0-spark2.0-s_2.11 --jars /home/jovyan/.ivy2/jars/com.typesafe.scala-logging_scala-logging-api_2.11-2.1.2.jar,/home/jovyan/.ivy2/jars/org.scala-lang_scala-reflect-2.11.0.jar,/home/jovyan/.ivy2/jars/com.typesafe.scala-logging_scala-logging-slf4j_2.11-2.1.2.jar,/home/jovyan/.ivy2/jars/org.slf4j_slf4j-api-1.7.7.jar,/home/jovyan/.ivy2/jars/graphframes_graphframes-0.3.0-spark2.0-s_2.11.jar pyspark-shell'\n\nimport pyspark\nfrom pyspark.sql import *\n\ntry:\n    sc = pyspark.SparkContext('local[*]',environment = {})\nexcept:\n    sc = sc\n#create sqlcontext on the spark, enables the use of the SQL queries below\nsqlContext = SQLContext(sc)\n\nimport pixiedust     #important, pixiedust must be initialized after pyspark, otherwise it just doesn't work right\n\n\n# Run PageRank algorithm, and show results.\n#results = g.pageRank(resetProbability=0.0001, maxIter=40)\n#results.vertices.select(\"id\", \"pagerank\").sort(\"id\").show()\n\n\n",
            "execution_count": 23,
            "outputs": []
        },
        {
            "metadata": {},
            "cell_type": "code",
            "source": "",
            "execution_count": null,
            "outputs": []
        }
    ],
    "metadata": {
        "kernelspec": {
            "name": "python36",
            "display_name": "Python 3.6 with Spark",
            "language": "python3"
        },
        "language_info": {
            "mimetype": "text/x-python",
            "nbconvert_exporter": "python",
            "name": "python",
            "pygments_lexer": "ipython3",
            "version": "3.6.8",
            "file_extension": ".py",
            "codemirror_mode": {
                "version": 3,
                "name": "ipython"
            }
        }
    },
    "nbformat": 4,
    "nbformat_minor": 1
}